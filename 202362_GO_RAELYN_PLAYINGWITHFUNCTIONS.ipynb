{
 "cells": [
  {
   "cell_type": "code",
   "execution_count": 75,
   "id": "e95183ee",
   "metadata": {},
   "outputs": [],
   "source": [
    "# Factorial:\n",
    "\n",
    "def problem_1(number):\n",
    "    \n",
    "    factorial = 1\n",
    "\n",
    "    if number < 0:\n",
    "        return(\"DNE\")\n",
    "    else:\n",
    "        for i in range(1, number + 1):\n",
    "            factorial *= i\n",
    "        return(factorial)"
   ]
  },
  {
   "cell_type": "code",
   "execution_count": 78,
   "id": "bff0b9ee",
   "metadata": {},
   "outputs": [
    {
     "data": {
      "text/plain": [
       "24"
      ]
     },
     "execution_count": 78,
     "metadata": {},
     "output_type": "execute_result"
    }
   ],
   "source": [
    "problem_1(4)"
   ]
  },
  {
   "cell_type": "code",
   "execution_count": 165,
   "id": "f2adbc8e",
   "metadata": {},
   "outputs": [],
   "source": [
    "# Guessing Game:\n",
    "\n",
    "def problem_2(passphrase):\n",
    "    for i in range(1,4):\n",
    "        guess = input(\"Enter your guess: \")\n",
    "        if guess == passphrase:\n",
    "            return(1)\n",
    "        elif guess != passphrase:\n",
    "            if i == 3:\n",
    "                return(0)"
   ]
  },
  {
   "cell_type": "code",
   "execution_count": 166,
   "id": "3595d87b",
   "metadata": {},
   "outputs": [
    {
     "name": "stdout",
     "output_type": "stream",
     "text": [
      "Enter your guess: my\n",
      "Enter your guess: cat\n",
      "Enter your guess: tobi\n"
     ]
    },
    {
     "data": {
      "text/plain": [
       "1"
      ]
     },
     "execution_count": 166,
     "metadata": {},
     "output_type": "execute_result"
    }
   ],
   "source": [
    "problem_2(\"tobi\")"
   ]
  },
  {
   "cell_type": "code",
   "execution_count": 103,
   "id": "e145e4aa",
   "metadata": {},
   "outputs": [],
   "source": [
    "# Temperature Converter:\n",
    "\n",
    "def problem_3(temp, og, new):\n",
    "    if str(og) == \"Celsius\" and str(new) == \"Fahrenheit\":\n",
    "        CF = (temp * 1.8) + 32\n",
    "        return float(CF)\n",
    "    elif str(og) == \"Celsius\" and str(new) == \"Kelvin\":\n",
    "        CK = temp + 273.15\n",
    "        return float(CK)\n",
    "    elif str(og) == \"Kelvin\" and str(new) == \"Fahrenheit\":\n",
    "        KF = ((temp - 273.15) * 9/5) + 32\n",
    "        return float(KF)\n",
    "    elif str(og) == \"Kelvin\" and str(new) == \"Celsius\":\n",
    "        KC = temp - 273.15\n",
    "        return float(KC)\n",
    "    elif str(og) == \"Fahrenheit\" and str(new) == \"Kelvin\":\n",
    "        FK = ((temp - 32) * 5/9) +273.15\n",
    "        return float(FK)\n",
    "    elif str(og) == \"Fahrenheit\" and str(new) == \"Celsius\":\n",
    "        FC = (temp - 32) * 5/9\n",
    "        return float(FC)"
   ]
  },
  {
   "cell_type": "code",
   "execution_count": 105,
   "id": "3ac2330b",
   "metadata": {},
   "outputs": [
    {
     "data": {
      "text/plain": [
       "440.33000000000004"
      ]
     },
     "execution_count": 105,
     "metadata": {},
     "output_type": "execute_result"
    }
   ],
   "source": [
    "problem_3(500,\"Kelvin\",\"Fahrenheit\")"
   ]
  },
  {
   "cell_type": "code",
   "execution_count": 171,
   "id": "6cdf6542",
   "metadata": {},
   "outputs": [],
   "source": [
    "# Exact Change:\n",
    "\n",
    "def problem_4(amount):\n",
    "    one_peso = int(amount/100)\n",
    "    twenty_five_cents = int((amount - (one_peso * 100))/25)\n",
    "    ten_cents = int((amount - (one_peso * 100) - (twenty_five_cents * 25))/10)\n",
    "    five_cents = int((amount - (one_peso * 100) - (twenty_five_cents * 25) - (ten_cents * 10))/5)\n",
    "    one_cent = int((amount - (one_peso * 100) - (twenty_five_cents * 25) - (ten_cents * 10) - (five_cents * 5)))\n",
    "    return(f\"1P:{one_peso}/25C:{twenty_five_cents}/10C:{ten_cents}/5C:{five_cents}/1C:{one_cent}\")"
   ]
  },
  {
   "cell_type": "code",
   "execution_count": 173,
   "id": "2a8e6aef",
   "metadata": {},
   "outputs": [
    {
     "data": {
      "text/plain": [
       "'1P:0/25C:2/10C:1/5C:1/1C:4'"
      ]
     },
     "execution_count": 173,
     "metadata": {},
     "output_type": "execute_result"
    }
   ],
   "source": [
    "problem_4(69)"
   ]
  },
  {
   "cell_type": "code",
   "execution_count": 183,
   "id": "25370bf7",
   "metadata": {},
   "outputs": [],
   "source": [
    "# Invert Capitalization:\n",
    "\n",
    "def problem_5(message):\n",
    "    flipped_message = \"\"\n",
    "    i = 0\n",
    "    while (i < len(message)):\n",
    "        if message[i] >= \"a\" and message[i] <= \"z\":\n",
    "            flipped_message += chr(ord(message[i]) - 32)\n",
    "        elif message[i] >= \"A\" and message[i] <= \"Z\":\n",
    "            flipped_message += chr(ord(message[i]) + 32)\n",
    "        else:\n",
    "            flipped_message += message[i]\n",
    "        i += 1\n",
    "    return flipped_message\n",
    "\n",
    "# source: https://stackoverflow.com/questions/26938376/upper-case-a-full-string-without-using-upper-function-python"
   ]
  },
  {
   "cell_type": "code",
   "execution_count": 185,
   "id": "ac2f4a43",
   "metadata": {},
   "outputs": [
    {
     "data": {
      "text/plain": [
       "'mY caT IS tOBi'"
      ]
     },
     "execution_count": 185,
     "metadata": {},
     "output_type": "execute_result"
    }
   ],
   "source": [
    "problem_5(\"My CAt is TobI\")"
   ]
  },
  {
   "cell_type": "code",
   "execution_count": null,
   "id": "232daa74",
   "metadata": {},
   "outputs": [],
   "source": []
  }
 ],
 "metadata": {
  "kernelspec": {
   "display_name": "Python 3",
   "language": "python",
   "name": "python3"
  },
  "language_info": {
   "codemirror_mode": {
    "name": "ipython",
    "version": 3
   },
   "file_extension": ".py",
   "mimetype": "text/x-python",
   "name": "python",
   "nbconvert_exporter": "python",
   "pygments_lexer": "ipython3",
   "version": "3.8.8"
  }
 },
 "nbformat": 4,
 "nbformat_minor": 5
}
